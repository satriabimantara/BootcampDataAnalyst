{
 "cells": [
  {
   "cell_type": "markdown",
   "id": "7fab7bc5",
   "metadata": {},
   "source": [
    "# Import Libraries"
   ]
  },
  {
   "cell_type": "code",
   "execution_count": 1,
   "id": "6835dfa9",
   "metadata": {},
   "outputs": [],
   "source": [
    "import pandas as pd\n",
    "import numpy as np"
   ]
  },
  {
   "cell_type": "markdown",
   "id": "5c8b781e",
   "metadata": {},
   "source": [
    "# Reading External Data\n",
    "***\n",
    "Resource: https://raw.githubusercontent.com/mediatechid/bootcamp-data-analyst/main/zomato_resto_file1.json"
   ]
  },
  {
   "cell_type": "code",
   "execution_count": 2,
   "id": "273551b0",
   "metadata": {},
   "outputs": [],
   "source": [
    "zomato_resto = pd.read_json('https://raw.githubusercontent.com/mediatechid/bootcamp-data-analyst/main/zomato_resto_file1.json')"
   ]
  },
  {
   "cell_type": "code",
   "execution_count": 3,
   "id": "b4f448eb",
   "metadata": {},
   "outputs": [
    {
     "data": {
      "text/html": [
       "<div>\n",
       "<style scoped>\n",
       "    .dataframe tbody tr th:only-of-type {\n",
       "        vertical-align: middle;\n",
       "    }\n",
       "\n",
       "    .dataframe tbody tr th {\n",
       "        vertical-align: top;\n",
       "    }\n",
       "\n",
       "    .dataframe thead th {\n",
       "        text-align: right;\n",
       "    }\n",
       "</style>\n",
       "<table border=\"1\" class=\"dataframe\">\n",
       "  <thead>\n",
       "    <tr style=\"text-align: right;\">\n",
       "      <th></th>\n",
       "      <th>results_found</th>\n",
       "      <th>restaurants</th>\n",
       "      <th>results_shown</th>\n",
       "      <th>results_start</th>\n",
       "      <th>message</th>\n",
       "      <th>code</th>\n",
       "      <th>status</th>\n",
       "    </tr>\n",
       "  </thead>\n",
       "  <tbody>\n",
       "    <tr>\n",
       "      <th>0</th>\n",
       "      <td>17151.0</td>\n",
       "      <td>[{'restaurant': {'has_online_delivery': 1, 'ph...</td>\n",
       "      <td>20.0</td>\n",
       "      <td>1.0</td>\n",
       "      <td>NaN</td>\n",
       "      <td>NaN</td>\n",
       "      <td>NaN</td>\n",
       "    </tr>\n",
       "    <tr>\n",
       "      <th>1</th>\n",
       "      <td>4748.0</td>\n",
       "      <td>[{'restaurant': {'has_online_delivery': 0, 'ph...</td>\n",
       "      <td>20.0</td>\n",
       "      <td>1.0</td>\n",
       "      <td>NaN</td>\n",
       "      <td>NaN</td>\n",
       "      <td>NaN</td>\n",
       "    </tr>\n",
       "    <tr>\n",
       "      <th>2</th>\n",
       "      <td>13786.0</td>\n",
       "      <td>[{'restaurant': {'has_online_delivery': 0, 'ph...</td>\n",
       "      <td>20.0</td>\n",
       "      <td>1.0</td>\n",
       "      <td>NaN</td>\n",
       "      <td>NaN</td>\n",
       "      <td>NaN</td>\n",
       "    </tr>\n",
       "    <tr>\n",
       "      <th>3</th>\n",
       "      <td>10224.0</td>\n",
       "      <td>[{'restaurant': {'has_online_delivery': 0, 'ph...</td>\n",
       "      <td>20.0</td>\n",
       "      <td>1.0</td>\n",
       "      <td>NaN</td>\n",
       "      <td>NaN</td>\n",
       "      <td>NaN</td>\n",
       "    </tr>\n",
       "    <tr>\n",
       "      <th>4</th>\n",
       "      <td>7039.0</td>\n",
       "      <td>[{'restaurant': {'has_online_delivery': 0, 'ph...</td>\n",
       "      <td>20.0</td>\n",
       "      <td>1.0</td>\n",
       "      <td>NaN</td>\n",
       "      <td>NaN</td>\n",
       "      <td>NaN</td>\n",
       "    </tr>\n",
       "    <tr>\n",
       "      <th>...</th>\n",
       "      <td>...</td>\n",
       "      <td>...</td>\n",
       "      <td>...</td>\n",
       "      <td>...</td>\n",
       "      <td>...</td>\n",
       "      <td>...</td>\n",
       "      <td>...</td>\n",
       "    </tr>\n",
       "    <tr>\n",
       "      <th>474</th>\n",
       "      <td>NaN</td>\n",
       "      <td>NaN</td>\n",
       "      <td>NaN</td>\n",
       "      <td>NaN</td>\n",
       "      <td>API limit exceeded</td>\n",
       "      <td>440.0</td>\n",
       "      <td></td>\n",
       "    </tr>\n",
       "    <tr>\n",
       "      <th>475</th>\n",
       "      <td>NaN</td>\n",
       "      <td>NaN</td>\n",
       "      <td>NaN</td>\n",
       "      <td>NaN</td>\n",
       "      <td>API limit exceeded</td>\n",
       "      <td>440.0</td>\n",
       "      <td></td>\n",
       "    </tr>\n",
       "    <tr>\n",
       "      <th>476</th>\n",
       "      <td>NaN</td>\n",
       "      <td>NaN</td>\n",
       "      <td>NaN</td>\n",
       "      <td>NaN</td>\n",
       "      <td>API limit exceeded</td>\n",
       "      <td>440.0</td>\n",
       "      <td></td>\n",
       "    </tr>\n",
       "    <tr>\n",
       "      <th>477</th>\n",
       "      <td>NaN</td>\n",
       "      <td>NaN</td>\n",
       "      <td>NaN</td>\n",
       "      <td>NaN</td>\n",
       "      <td>API limit exceeded</td>\n",
       "      <td>440.0</td>\n",
       "      <td></td>\n",
       "    </tr>\n",
       "    <tr>\n",
       "      <th>478</th>\n",
       "      <td>NaN</td>\n",
       "      <td>NaN</td>\n",
       "      <td>NaN</td>\n",
       "      <td>NaN</td>\n",
       "      <td>API limit exceeded</td>\n",
       "      <td>440.0</td>\n",
       "      <td></td>\n",
       "    </tr>\n",
       "  </tbody>\n",
       "</table>\n",
       "<p>479 rows × 7 columns</p>\n",
       "</div>"
      ],
      "text/plain": [
       "     results_found                                        restaurants  \\\n",
       "0          17151.0  [{'restaurant': {'has_online_delivery': 1, 'ph...   \n",
       "1           4748.0  [{'restaurant': {'has_online_delivery': 0, 'ph...   \n",
       "2          13786.0  [{'restaurant': {'has_online_delivery': 0, 'ph...   \n",
       "3          10224.0  [{'restaurant': {'has_online_delivery': 0, 'ph...   \n",
       "4           7039.0  [{'restaurant': {'has_online_delivery': 0, 'ph...   \n",
       "..             ...                                                ...   \n",
       "474            NaN                                                NaN   \n",
       "475            NaN                                                NaN   \n",
       "476            NaN                                                NaN   \n",
       "477            NaN                                                NaN   \n",
       "478            NaN                                                NaN   \n",
       "\n",
       "     results_shown  results_start             message   code status  \n",
       "0             20.0            1.0                 NaN    NaN    NaN  \n",
       "1             20.0            1.0                 NaN    NaN    NaN  \n",
       "2             20.0            1.0                 NaN    NaN    NaN  \n",
       "3             20.0            1.0                 NaN    NaN    NaN  \n",
       "4             20.0            1.0                 NaN    NaN    NaN  \n",
       "..             ...            ...                 ...    ...    ...  \n",
       "474            NaN            NaN  API limit exceeded  440.0         \n",
       "475            NaN            NaN  API limit exceeded  440.0         \n",
       "476            NaN            NaN  API limit exceeded  440.0         \n",
       "477            NaN            NaN  API limit exceeded  440.0         \n",
       "478            NaN            NaN  API limit exceeded  440.0         \n",
       "\n",
       "[479 rows x 7 columns]"
      ]
     },
     "execution_count": 3,
     "metadata": {},
     "output_type": "execute_result"
    }
   ],
   "source": [
    "zomato_resto"
   ]
  },
  {
   "cell_type": "code",
   "execution_count": 4,
   "id": "488a2f08",
   "metadata": {},
   "outputs": [],
   "source": [
    "zomato_resto_copy = zomato_resto.copy()"
   ]
  },
  {
   "cell_type": "markdown",
   "id": "e6ef03b9",
   "metadata": {},
   "source": [
    "# Preprocessing"
   ]
  },
  {
   "cell_type": "markdown",
   "id": "5d2e9dc0",
   "metadata": {},
   "source": [
    "## Remove Data With NaN Values"
   ]
  },
  {
   "cell_type": "code",
   "execution_count": 41,
   "id": "e9ed7197",
   "metadata": {},
   "outputs": [],
   "source": [
    "zomato_resto_copy.dropna(subset='restaurants',inplace=True)\n",
    "zomato_resto_copy.reset_index(drop=True, inplace=True)"
   ]
  },
  {
   "cell_type": "markdown",
   "id": "33e7425c",
   "metadata": {},
   "source": [
    "# Jawaban"
   ]
  },
  {
   "cell_type": "markdown",
   "id": "97ae807c",
   "metadata": {},
   "source": [
    "## Soal Nomor 2\n",
    "***\n",
    "**Hints**: Pelajari struktur data dari kolom restaurants untuk bisa mengekstrak nama restauran"
   ]
  },
  {
   "cell_type": "code",
   "execution_count": 43,
   "id": "4073ac96",
   "metadata": {},
   "outputs": [],
   "source": [
    "# tampilkan seluruh nama restaurant dari data tersebut\n",
    "def extract_json_restaurants_information(data):\n",
    "    if len(data)!=0:\n",
    "        restaurant_information = data[0]['restaurant']\n",
    "        restaurant_name = restaurant_information['name']\n",
    "        return restaurant_name\n",
    "    else:\n",
    "        return np.nan\n",
    "\n",
    "zomato_resto_copy['restaurants'] = zomato_resto_copy['restaurants'].apply(extract_json_restaurants_information)"
   ]
  },
  {
   "cell_type": "code",
   "execution_count": 47,
   "id": "1c43a64d",
   "metadata": {},
   "outputs": [
    {
     "name": "stdout",
     "output_type": "stream",
     "text": [
      "Hauz Khas Social\n",
      "Spice Kraft\n",
      "Farzi Cafe\n",
      "Flechazo\n",
      "AB's - Absolute Barbecues\n",
      "Coal Barbecues\n",
      "Vintage Machine\n",
      "Cafe 17\n",
      "Blackout\n",
      "Mocha\n",
      "OvenFresh\n",
      "Britto's Bar & Restaurant\n",
      "nan\n",
      "Al Arabian Express\n",
      "Barbeque Nation\n",
      "Makhan Fish and Chicken Corner\n",
      "Upper Crust\n",
      "The Tamarind Tree\n",
      "Kream N Krunch\n",
      "10 Downing Street\n",
      "Prana\n",
      "The Square - Hotel Novotel\n",
      "Eram Rooftop\n",
      "Batlivala & Khanabhoy\n",
      "Machali\n",
      "Tomato's\n",
      "Jahanpanah\n",
      "Empire Restaurant\n",
      "Baker Street\n",
      "Level 5 - Terrace Restro & Cafe\n",
      "Baati Chokha\n",
      "Swaaddesh\n",
      "Grand Barbeque Buffet Restaurant\n",
      "Artistry\n",
      "Rajasthan Al Malaki\n",
      "Famous Dave's Barbecue\n",
      "The Sizzle\n",
      "Bayramoğlu Döner\n",
      "Çukurağa Sofrası\n",
      "Dishoom\n",
      "Roti & Boti\n",
      "Izakaya Kikufuji\n",
      "Jarryds\n",
      "Jamie's Italian\n",
      "Coco Bambu\n",
      "Templo da Carne - Marcos Bassi\n",
      "Santos\n",
      "Tipu Sultan\n",
      "Eight - The Langham Hotel\n",
      "Loretta\n",
      "The Golconda Bowl - hilton\n",
      "Aprazível\n",
      "Fish Streat\n",
      "Old Town Italy\n",
      "Loudons Cafe & Bakery\n"
     ]
    }
   ],
   "source": [
    "for restoran in zomato_resto_copy['restaurants'].unique():\n",
    "    print(restoran)"
   ]
  },
  {
   "cell_type": "code",
   "execution_count": null,
   "id": "96ac5e02",
   "metadata": {},
   "outputs": [],
   "source": []
  }
 ],
 "metadata": {
  "kernelspec": {
   "display_name": "koding_akademi_virtual_environtment",
   "language": "python",
   "name": "koding_akademi_virtual_environtment"
  },
  "language_info": {
   "codemirror_mode": {
    "name": "ipython",
    "version": 3
   },
   "file_extension": ".py",
   "mimetype": "text/x-python",
   "name": "python",
   "nbconvert_exporter": "python",
   "pygments_lexer": "ipython3",
   "version": "3.10.8"
  },
  "toc": {
   "base_numbering": 1,
   "nav_menu": {},
   "number_sections": true,
   "sideBar": true,
   "skip_h1_title": false,
   "title_cell": "Table of Contents",
   "title_sidebar": "Contents",
   "toc_cell": false,
   "toc_position": {},
   "toc_section_display": true,
   "toc_window_display": false
  }
 },
 "nbformat": 4,
 "nbformat_minor": 5
}
