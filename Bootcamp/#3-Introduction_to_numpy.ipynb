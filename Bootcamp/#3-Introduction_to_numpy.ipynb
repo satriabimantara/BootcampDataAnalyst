{
 "cells": [
  {
   "cell_type": "markdown",
   "id": "6eba1881",
   "metadata": {},
   "source": [
    "# Import Libraries"
   ]
  },
  {
   "cell_type": "code",
   "execution_count": 1,
   "id": "bc64942d",
   "metadata": {},
   "outputs": [],
   "source": [
    "import numpy as np"
   ]
  },
  {
   "cell_type": "markdown",
   "id": "d890d0b3",
   "metadata": {},
   "source": [
    "# Numpy Introduction"
   ]
  },
  {
   "cell_type": "markdown",
   "id": "30eaea01",
   "metadata": {},
   "source": [
    "## Creating Numpy Array"
   ]
  },
  {
   "cell_type": "code",
   "execution_count": 2,
   "id": "1a2655c6",
   "metadata": {},
   "outputs": [],
   "source": [
    "example_data = np.array(\n",
    "    [\n",
    "        [\n",
    "            [1,2,3],\n",
    "            [4,5,6]\n",
    "        ],\n",
    "        [\n",
    "            [4,5,3],\n",
    "            [9,4,3]\n",
    "        ]\n",
    "    ]\n",
    ")"
   ]
  },
  {
   "cell_type": "code",
   "execution_count": 3,
   "id": "ba64640f",
   "metadata": {},
   "outputs": [
    {
     "data": {
      "text/plain": [
       "(2, 2, 3)"
      ]
     },
     "execution_count": 3,
     "metadata": {},
     "output_type": "execute_result"
    }
   ],
   "source": [
    "example_data.shape"
   ]
  },
  {
   "cell_type": "code",
   "execution_count": 10,
   "id": "ae59f4b0",
   "metadata": {},
   "outputs": [
    {
     "data": {
      "text/plain": [
       "array([[1, 2],\n",
       "       [3, 4]])"
      ]
     },
     "execution_count": 10,
     "metadata": {},
     "output_type": "execute_result"
    }
   ],
   "source": [
    "x = np.array([1,2,3,4])\n",
    "x.reshape((2,2))"
   ]
  },
  {
   "cell_type": "code",
   "execution_count": 12,
   "id": "0ed58a88",
   "metadata": {},
   "outputs": [
    {
     "name": "stdout",
     "output_type": "stream",
     "text": [
      "[[ 0]\n",
      " [40]]\n"
     ]
    }
   ],
   "source": [
    "arr_split_example = np.array(\n",
    "    [\n",
    "        np.arange(10),\n",
    "        np.arange(40,60,2)\n",
    "    ]\n",
    ")\n",
    "# Membagi array menjadi 10 sama besar\n",
    "arr_splitted = np.hsplit(arr_split_example,10)\n",
    "print(arr_splitted)"
   ]
  },
  {
   "cell_type": "code",
   "execution_count": 14,
   "id": "1f3ca4c6",
   "metadata": {},
   "outputs": [],
   "source": [
    "arr_splitted = np.vsplit(arr_split_example, 2)"
   ]
  },
  {
   "cell_type": "code",
   "execution_count": 15,
   "id": "88cbfa06",
   "metadata": {},
   "outputs": [
    {
     "data": {
      "text/plain": [
       "[array([[0, 1, 2, 3, 4, 5, 6, 7, 8, 9]]),\n",
       " array([[40, 42, 44, 46, 48, 50, 52, 54, 56, 58]])]"
      ]
     },
     "execution_count": 15,
     "metadata": {},
     "output_type": "execute_result"
    }
   ],
   "source": [
    "arr_splitted"
   ]
  },
  {
   "cell_type": "code",
   "execution_count": 16,
   "id": "6de5acb9",
   "metadata": {},
   "outputs": [],
   "source": [
    "xx = np.array([\n",
    "    [1,2,3],\n",
    "    [4,5,6],\n",
    "    [7,8,9],\n",
    "    [10,11,12]\n",
    "])"
   ]
  },
  {
   "cell_type": "code",
   "execution_count": 18,
   "id": "1cedfc46",
   "metadata": {},
   "outputs": [
    {
     "data": {
      "text/plain": [
       "array([ 3,  6,  9, 12])"
      ]
     },
     "execution_count": 18,
     "metadata": {},
     "output_type": "execute_result"
    }
   ],
   "source": [
    "xx[:, 2]"
   ]
  },
  {
   "cell_type": "code",
   "execution_count": null,
   "id": "d237bc86",
   "metadata": {},
   "outputs": [],
   "source": []
  }
 ],
 "metadata": {
  "kernelspec": {
   "display_name": "koding_akademi_virtual_environtment",
   "language": "python",
   "name": "koding_akademi_virtual_environtment"
  },
  "language_info": {
   "codemirror_mode": {
    "name": "ipython",
    "version": 3
   },
   "file_extension": ".py",
   "mimetype": "text/x-python",
   "name": "python",
   "nbconvert_exporter": "python",
   "pygments_lexer": "ipython3",
   "version": "3.10.8"
  },
  "toc": {
   "base_numbering": 1,
   "nav_menu": {},
   "number_sections": true,
   "sideBar": true,
   "skip_h1_title": false,
   "title_cell": "Table of Contents",
   "title_sidebar": "Contents",
   "toc_cell": false,
   "toc_position": {},
   "toc_section_display": true,
   "toc_window_display": false
  }
 },
 "nbformat": 4,
 "nbformat_minor": 5
}
