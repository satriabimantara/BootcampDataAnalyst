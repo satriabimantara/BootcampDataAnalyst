{
 "cells": [
  {
   "cell_type": "markdown",
   "id": "bd1904b4",
   "metadata": {},
   "source": [
    "# Bootcamp Python Variables - Data Types"
   ]
  },
  {
   "cell_type": "code",
   "execution_count": 1,
   "id": "331f25d2",
   "metadata": {},
   "outputs": [],
   "source": [
    "#  soal 1\n",
    "musim = \"Musim Semi\""
   ]
  },
  {
   "cell_type": "code",
   "execution_count": 2,
   "id": "9389f9c5",
   "metadata": {},
   "outputs": [],
   "source": [
    "# soal 2\n",
    "sum_math = 3 + 4 + 5"
   ]
  },
  {
   "cell_type": "code",
   "execution_count": 3,
   "id": "3e2ec612",
   "metadata": {},
   "outputs": [],
   "source": [
    "# soal 3\n",
    "number_str = '081231231231'"
   ]
  },
  {
   "cell_type": "code",
   "execution_count": 4,
   "id": "2b0f56f9",
   "metadata": {},
   "outputs": [
    {
     "name": "stdout",
     "output_type": "stream",
     "text": [
      "10\n",
      "0.5\n",
      "K\n",
      "Koding Akademi\n",
      "True\n"
     ]
    }
   ],
   "source": [
    "# soal 4\n",
    "x = 10\n",
    "y = 0.5\n",
    "z = 'K'\n",
    "a = 'Koding Akademi'\n",
    "b = True\n",
    "\n",
    "print(x)\n",
    "print(y)\n",
    "print(z)\n",
    "print(a)\n",
    "print(b)"
   ]
  },
  {
   "cell_type": "code",
   "execution_count": 5,
   "id": "21433141",
   "metadata": {},
   "outputs": [
    {
     "name": "stdout",
     "output_type": "stream",
     "text": [
      "45.0\n",
      "0\n",
      "0xc\n",
      "119\n"
     ]
    }
   ],
   "source": [
    "# soal 5\n",
    "print(float(int(45)))\n",
    "print(int(float(0.667)))\n",
    "print(hex(int(12)))\n",
    "print(str(int(119)))"
   ]
  },
  {
   "cell_type": "markdown",
   "id": "751eb17f",
   "metadata": {},
   "source": [
    "# Bootcamp Python - Input & Output"
   ]
  },
  {
   "cell_type": "code",
   "execution_count": 6,
   "id": "2fe7d33a",
   "metadata": {},
   "outputs": [
    {
     "name": "stdout",
     "output_type": "stream",
     "text": [
      "Masukan nama: sa\n",
      "Masukan umur: sa\n",
      "Masukan alamat: sa\n"
     ]
    }
   ],
   "source": [
    "# soal 1\n",
    "name = input(\"Masukan nama: \")\n",
    "age = input(\"Masukan umur: \")\n",
    "address = input(\"Masukan alamat: \")"
   ]
  },
  {
   "cell_type": "code",
   "execution_count": 7,
   "id": "30451b0d",
   "metadata": {},
   "outputs": [
    {
     "name": "stdout",
     "output_type": "stream",
     "text": [
      "Halo Selamat Datang di Koding Akademi!\n",
      "Berikut Identitas Anda:\n",
      "Nama =  sa\n",
      "Umur =  sa\n",
      "Alamat =  sa\n"
     ]
    }
   ],
   "source": [
    "print(\"Halo Selamat Datang di Koding Akademi!\")\n",
    "print(\"Berikut Identitas Anda:\")\n",
    "print(\"Nama = \", name)\n",
    "print(\"Umur = \", age)\n",
    "print(\"Alamat = \", address)"
   ]
  },
  {
   "cell_type": "markdown",
   "id": "596819ca",
   "metadata": {},
   "source": [
    "# Bootcamp Python - Operators"
   ]
  },
  {
   "cell_type": "code",
   "execution_count": 8,
   "id": "5cb5a789",
   "metadata": {},
   "outputs": [
    {
     "name": "stdout",
     "output_type": "stream",
     "text": [
      "1\n",
      "2\n",
      "3\n",
      "4\n",
      "5\n"
     ]
    }
   ],
   "source": [
    "# soal nomor 1\n",
    "angka1 = 1\n",
    "print(angka1)\n",
    "angka1 += 1\n",
    "print(angka1)\n",
    "angka1 += 1\n",
    "print(angka1)\n",
    "angka1 += 1\n",
    "print(angka1)\n",
    "angka1 += 1\n",
    "print(angka1)"
   ]
  },
  {
   "cell_type": "code",
   "execution_count": 9,
   "id": "fbfaee9e",
   "metadata": {},
   "outputs": [
    {
     "name": "stdout",
     "output_type": "stream",
     "text": [
      "1\n",
      "0\n",
      "-1\n",
      "-2\n",
      "-3\n"
     ]
    }
   ],
   "source": [
    "# soal nomor 2\n",
    "angka1 = 1\n",
    "print(angka1)\n",
    "angka1 -= 1\n",
    "print(angka1)\n",
    "angka1 -= 1\n",
    "print(angka1)\n",
    "angka1 -= 1\n",
    "print(angka1)\n",
    "angka1 -= 1\n",
    "print(angka1)"
   ]
  },
  {
   "cell_type": "code",
   "execution_count": 10,
   "id": "52d3db3d",
   "metadata": {},
   "outputs": [
    {
     "name": "stdout",
     "output_type": "stream",
     "text": [
      "Masukan bilangan 1 = sasa\n",
      "Masukan bilangan 2 = sasa\n",
      "Masukan bilangan 3 = sa\n",
      "Masukan bilangan 4 = \n"
     ]
    }
   ],
   "source": [
    "# soal nomor 3\n",
    "num1 = input(\"Masukan bilangan 1 = \")\n",
    "num2 = input(\"Masukan bilangan 2 = \")\n",
    "num3 = input(\"Masukan bilangan 3 = \")\n",
    "num4 = input(\"Masukan bilangan 4 = \")"
   ]
  },
  {
   "cell_type": "code",
   "execution_count": 11,
   "id": "a07d9701",
   "metadata": {},
   "outputs": [
    {
     "name": "stdout",
     "output_type": "stream",
     "text": [
      "Apakah num1 > num3?  True\n",
      "Apakah num1 >= num3?  True\n",
      "Apakah num1 < num3?  False\n",
      "Apakah num1 >= num3?  False\n"
     ]
    }
   ],
   "source": [
    "print(\"Apakah num1 > num3? \", num1>num3)\n",
    "print(\"Apakah num1 >= num3? \", num1>=num3)\n",
    "print(\"Apakah num1 < num3? \", num1<num3)\n",
    "print(\"Apakah num1 >= num3? \", num1<=num3)"
   ]
  },
  {
   "cell_type": "code",
   "execution_count": 12,
   "id": "09fcf500",
   "metadata": {},
   "outputs": [
    {
     "name": "stdout",
     "output_type": "stream",
     "text": [
      "Apakah num2 > num4?  True\n",
      "Apakah num2 >= num4?  True\n",
      "Apakah num2 < num4?  False\n",
      "Apakah num2 >= num4?  False\n"
     ]
    }
   ],
   "source": [
    "print(\"Apakah num2 > num4? \", num2>num4)\n",
    "print(\"Apakah num2 >= num4? \", num2>=num4)\n",
    "print(\"Apakah num2 < num4? \", num2<num4)\n",
    "print(\"Apakah num2 >= num4? \", num2<=num4)"
   ]
  },
  {
   "cell_type": "code",
   "execution_count": 14,
   "id": "bc06a94d",
   "metadata": {},
   "outputs": [
    {
     "name": "stdout",
     "output_type": "stream",
     "text": [
      "Masukan bilangan bulat pertama = 2\n",
      "Masukan bilangan bulat kedua = 2\n",
      "Bilangan a dipangkatkan bilangan b =  4\n",
      "Bilangan b dipangkatkan bilangan a =  4\n"
     ]
    }
   ],
   "source": [
    "# soal nomor 4\n",
    "a = int(input('Masukan bilangan bulat pertama = '))\n",
    "b = int(input('Masukan bilangan bulat kedua = '))\n",
    "\n",
    "print(\"Bilangan a dipangkatkan bilangan b = \", a**b)\n",
    "print(\"Bilangan b dipangkatkan bilangan a = \", b**a)"
   ]
  },
  {
   "cell_type": "code",
   "execution_count": 16,
   "id": "741f5f68",
   "metadata": {},
   "outputs": [
    {
     "name": "stdout",
     "output_type": "stream",
     "text": [
      "Masukan bilangan bulat = 2\n",
      "False\n"
     ]
    }
   ],
   "source": [
    "# soal nomor 5\n",
    "x = int(input('Masukan bilangan bulat = '))\n",
    "\n",
    "print((x%2==1))"
   ]
  },
  {
   "cell_type": "markdown",
   "id": "b2329730",
   "metadata": {},
   "source": [
    "# Bootcamp Python - Control Flow - If Statement"
   ]
  },
  {
   "cell_type": "code",
   "execution_count": 17,
   "id": "e19bf0bf",
   "metadata": {},
   "outputs": [
    {
     "name": "stdout",
     "output_type": "stream",
     "text": [
      "Masukan nilai = 2\n",
      "Nilai Akhir siswa =  D\n"
     ]
    }
   ],
   "source": [
    "# soal 1\n",
    "nilai_siswa = int(input('Masukan nilai = '))\n",
    "nilai_akhir = ''\n",
    "if (nilai_siswa < 50):\n",
    "    nilai_akhir = 'D'\n",
    "elif(nilai_siswa <=70):\n",
    "    nilai_akhir = 'C'\n",
    "elif(nilai_siswa <= 80):\n",
    "    nilai_akhir='B'\n",
    "else:\n",
    "    nilai_akhir='A'\n",
    "print('Nilai Akhir siswa = ', nilai_akhir)"
   ]
  },
  {
   "cell_type": "code",
   "execution_count": 18,
   "id": "519a3be8",
   "metadata": {},
   "outputs": [
    {
     "name": "stdout",
     "output_type": "stream",
     "text": [
      "Masukan nilai = 2\n",
      "Genap\n"
     ]
    }
   ],
   "source": [
    "# soal 2\n",
    "number = int(input('Masukan nilai = '))\n",
    "if(number%2==0):\n",
    "    print('Genap')\n",
    "else:\n",
    "    print('Ganjil')"
   ]
  },
  {
   "cell_type": "code",
   "execution_count": 22,
   "id": "5e08d198",
   "metadata": {},
   "outputs": [
    {
     "name": "stdout",
     "output_type": "stream",
     "text": [
      "Masukan kwh = 12\n",
      "Total tagihan untuk 12 kwh = Rp. 0\n"
     ]
    }
   ],
   "source": [
    "# soal 3\n",
    "'''\n",
    "Rules:\n",
    "100 kwh pertama --> gratis\n",
    "100 kwh kedua --> Rp. 5/kwh\n",
    "> 200 kwh --> Rp. 10/kwh\n",
    "\n",
    "Input: Unit KWH (asumsi integer)\n",
    "Output: Harga Tagihan Listrik\n",
    "'''\n",
    "\n",
    "# input dari user\n",
    "kwh_user = int(input('Masukan kwh = '))\n",
    "\n",
    "def check_tagihan(kwh):\n",
    "    # buat variabel untuk menampung variabel total_tagihan\n",
    "    total_tagihan = 0\n",
    "\n",
    "    if(kwh <= 100):\n",
    "        total_tagihan += 0\n",
    "    elif(kwh>100 and kwh<=200):\n",
    "        sisa_hasil_bagi = kwh%100\n",
    "        if(kwh//100 == 2):\n",
    "            total_tagihan+=(100*5)\n",
    "        total_tagihan += sisa_hasil_bagi*5\n",
    "    else:\n",
    "\n",
    "        # tambahkan total tagihan 100 kwh kedua\n",
    "        total_tagihan+=(100*5)\n",
    "\n",
    "        # tambahkan total tagihan 100 kwh berikutnya (>200)\n",
    "        floor_division = (kwh//100) - 2 # (dikurang 2 karena 100 kwh pertama gratis, 100 kwh kedua sudah dihitung diatas)\n",
    "        sisa_hasil_bagi = kwh % 100\n",
    "        total_tagihan += ((floor_division * 100) * 10) + (sisa_hasil_bagi * 10)\n",
    "        \n",
    "    print(f\"Total tagihan untuk {kwh_user} kwh = Rp. {total_tagihan}\")\n",
    "\n",
    "check_tagihan(kwh_user)"
   ]
  },
  {
   "cell_type": "markdown",
   "id": "44a4cfde",
   "metadata": {},
   "source": [
    "# Bootcamp Python - Control Flow - Looping "
   ]
  },
  {
   "cell_type": "code",
   "execution_count": 23,
   "id": "658a1895",
   "metadata": {},
   "outputs": [
    {
     "name": "stdout",
     "output_type": "stream",
     "text": [
      "1 2 3 4 5 6 7 8 9 10 \n",
      "1 2 3 4 5 6 7 8 9 10 "
     ]
    }
   ],
   "source": [
    "# soal 1\n",
    "# cara 1\n",
    "for i in range(1,11,1):\n",
    "    print(i, end=' ')\n",
    "\n",
    "# cara 2\n",
    "print()\n",
    "count = 1\n",
    "while(count<=10):\n",
    "    print(count, end=' ')\n",
    "    count+=1"
   ]
  },
  {
   "cell_type": "code",
   "execution_count": 24,
   "id": "69efd8e1",
   "metadata": {},
   "outputs": [
    {
     "name": "stdout",
     "output_type": "stream",
     "text": [
      "0\n",
      "1\n",
      "2\n",
      "3\n",
      "4\n",
      "5\n",
      "6\n",
      "7\n",
      "8\n",
      "9\n",
      "10\n",
      "Kamu Berhasil Memenangkan Permainan Ini!\n"
     ]
    }
   ],
   "source": [
    "# soal 2\n",
    "score = 0\n",
    "end_score = 10\n",
    "while(score <= end_score):\n",
    "    print(score)\n",
    "    if(score==end_score):\n",
    "        print(\"Kamu Berhasil Memenangkan Permainan Ini!\")\n",
    "    score+=1\n",
    "    "
   ]
  },
  {
   "cell_type": "code",
   "execution_count": 25,
   "id": "0698e246",
   "metadata": {},
   "outputs": [
    {
     "name": "stdout",
     "output_type": "stream",
     "text": [
      "POLA 1\n",
      "*****\n",
      "*****\n",
      "*****\n",
      "*****\n",
      "*****\n",
      "POLA 2\n",
      "*\n",
      "**\n",
      "***\n",
      "****\n",
      "*****\n",
      "\n",
      "*\n",
      "**\n",
      "***\n",
      "****\n",
      "*****\n"
     ]
    }
   ],
   "source": [
    "# soal 3\n",
    "n_row = 5\n",
    "\n",
    "# pola 1\n",
    "print(\"POLA 1\")\n",
    "for i in range(n_row):\n",
    "    print(\"*\"*n_row)\n",
    "\n",
    "\n",
    "# pola 2\n",
    "print(\"POLA 2\")\n",
    "# cara 1\n",
    "for i in range(n_row):\n",
    "    for j in range(i+1):\n",
    "        print('*', end='')\n",
    "    print()\n",
    "\n",
    "for i in range(n_row+1):\n",
    "    print(\"*\"*i)"
   ]
  },
  {
   "cell_type": "code",
   "execution_count": 26,
   "id": "e4a98959",
   "metadata": {},
   "outputs": [
    {
     "name": "stdout",
     "output_type": "stream",
     "text": [
      "Masukan angka n = 9\n",
      "Jumlah angka genap sampai n: 20\n"
     ]
    }
   ],
   "source": [
    "# soal 4 (asumsi start perhitungan dari 0)\n",
    "n = int(input(\"Masukan angka n = \"))\n",
    "jumlah_bilangan_genap = 0\n",
    "\n",
    "counter=0\n",
    "while(counter<=n):\n",
    "    if counter%2 == 0:\n",
    "        jumlah_bilangan_genap+=counter\n",
    "    counter+=1\n",
    "\n",
    "print(f\"Jumlah angka genap sampai n: {jumlah_bilangan_genap}\")"
   ]
  },
  {
   "cell_type": "code",
   "execution_count": 27,
   "id": "71aec7fa",
   "metadata": {},
   "outputs": [
    {
     "name": "stdout",
     "output_type": "stream",
     "text": [
      "Masukan angka 2\n",
      "Masukan angka 2\n",
      "Masukan angka 2\n",
      "Masukan angka 2\n",
      "Masukan angka 2\n",
      "Hitung rata-rata: 2.0\n"
     ]
    }
   ],
   "source": [
    "# soal 5\n",
    "jumlah_inputan_angka = 5\n",
    "total = 0\n",
    "for i in range(jumlah_inputan_angka):\n",
    "    total += int(input('Masukan angka '))\n",
    "\n",
    "print(f'Hitung rata-rata: {total/jumlah_inputan_angka}')"
   ]
  },
  {
   "cell_type": "markdown",
   "id": "b46fc6bd",
   "metadata": {},
   "source": [
    "# Bootcamp Python - Collections"
   ]
  },
  {
   "cell_type": "code",
   "execution_count": 28,
   "id": "c947b308",
   "metadata": {},
   "outputs": [
    {
     "name": "stdout",
     "output_type": "stream",
     "text": [
      "True\n",
      "#Slicing mystr untuk output: koding akademi\n",
      "#Slicing untuk tampilkan output: Welcome\n",
      "#Slicing mystr print backward: imedaka gnidok ot emocleW\n"
     ]
    }
   ],
   "source": [
    "# soal 1\n",
    "kosong = list()\n",
    "\n",
    "# soal 2\n",
    "aktif = [True]\n",
    "\n",
    "# soal 3\n",
    "kodepos = [1,2,3,4,5]\n",
    "\n",
    "# soal 4\n",
    "warna = ['merah', 'hijau', 'biru']\n",
    "\n",
    "# soal 5\n",
    "def cek_panjang(input_list):\n",
    "    if input_list:\n",
    "        if len(input_list)>10:\n",
    "            return True\n",
    "    return False\n",
    "\n",
    "ex_list = cek_panjang([1,2,3,4,5,6,7,8,9,10,11])\n",
    "print(ex_list)\n",
    "\n",
    "# soal 6\n",
    "mystr = 'Welcome to koding akademi'\n",
    "\n",
    "print(f'#Slicing mystr untuk output: {mystr[11:]}')\n",
    "print(f'#Slicing untuk tampilkan output: {mystr[0:7]}')\n",
    "print(f'#Slicing mystr print backward: {mystr[::-1]}')"
   ]
  },
  {
   "cell_type": "markdown",
   "id": "473cff3d",
   "metadata": {},
   "source": [
    "# Bootcamp python - Collections - Dictionary"
   ]
  },
  {
   "cell_type": "code",
   "execution_count": 30,
   "id": "d611387d",
   "metadata": {},
   "outputs": [
    {
     "name": "stdout",
     "output_type": "stream",
     "text": [
      "Silahkan masukan nama Anda = b\n",
      "Silahkan masukan Umur Anda = 12\n",
      "Silahkan masukan alamat Anda = sa\n",
      "Silahkan masukan username Anda = 12\n"
     ]
    }
   ],
   "source": [
    "# soal 1\n",
    "name = input('Silahkan masukan nama Anda = ')\n",
    "umur = int(input('Silahkan masukan Umur Anda = '))\n",
    "alamat = input('Silahkan masukan alamat Anda = ')\n",
    "username = input('Silahkan masukan username Anda = ')"
   ]
  },
  {
   "cell_type": "markdown",
   "id": "c53052a3",
   "metadata": {},
   "source": [
    "# Bootcamp Python - Functions - Implementing and Calling Functions "
   ]
  },
  {
   "cell_type": "code",
   "execution_count": 31,
   "id": "2c42c674",
   "metadata": {},
   "outputs": [],
   "source": [
    "def penjumlahan(a,b):\n",
    "    return a + b\n",
    "\n",
    "def pengurangan(a,b):\n",
    "    return a-b\n",
    "\n",
    "def perkalian(a,b):\n",
    "    return a*b\n",
    "\n",
    "def pembagian(a,b):\n",
    "    return a/b"
   ]
  },
  {
   "cell_type": "code",
   "execution_count": 48,
   "id": "8d43c346",
   "metadata": {},
   "outputs": [],
   "source": [
    "def start_program():\n",
    "    is_break = False\n",
    "    while (is_break == False):\n",
    "        print(\"Silahkan memilih menu:\")\n",
    "        print(\"1. Penjumlahan\")\n",
    "        print(\"2. Pengurangan\")\n",
    "        print(\"3. Perkalian\")\n",
    "        print(\"4. Pembagian\")\n",
    "        pilihan_user = input('Masukan Pilihan = ')\n",
    "        if int(pilihan_user) >= 1 and int(pilihan_user) <= 4:\n",
    "            bil1 = int(input('Masukan Angka 1 = '))\n",
    "            bil2 = int(input('Masukan Angka 2 = '))\n",
    "            if (int(pilihan_user) == 1):\n",
    "                print(f\"Hasil Penjumlahan adalah {penjumlahan(bil1, bil2)}\")\n",
    "            elif (int(pilihan_user) == 2):\n",
    "                print(f\"Hasil Pengurangan adalah {pengurangan(bil1, bil2)}\")\n",
    "            elif (int(pilihan_user) == 3):\n",
    "                print(f\"Hasil Perkalian adalah {perkalian(bil1, bil2)}\")\n",
    "            elif (int(pilihan_user) == 4):\n",
    "                print(f\"Hasil Pembagian adalah {pembagian(bil1, bil2)}\")\n",
    "        else:\n",
    "            print('Pilihan tidak ada di menu! Silahkan masukkan ulang')\n",
    "\n",
    "        lanjut = input('Masih ingin memilih? ')\n",
    "        if lanjut == \"tidak\":\n",
    "            is_break = True\n",
    "        elif lanjut == \"ya\":\n",
    "            is_break = False\n",
    "        else:\n",
    "            print(\"Pilihan tidak terdeteksi, silahkan masukkan ulang pilihan Anda\")\n",
    "\n",
    "    print('Terimakasih, Selamat Datang Kembali!')"
   ]
  },
  {
   "cell_type": "code",
   "execution_count": 49,
   "id": "31a5c034",
   "metadata": {},
   "outputs": [
    {
     "name": "stdout",
     "output_type": "stream",
     "text": [
      "Silahkan memilih menu:\n",
      "1. Penjumlahan\n",
      "2. Pengurangan\n",
      "3. Perkalian\n",
      "4. Pembagian\n",
      "Masukan Pilihan = 2\n",
      "Masukan Angka 1 = 2\n",
      "Masukan Angka 2 = 3\n",
      "Hasil Pengurangan adalah -1\n",
      "Masih ingin memilih? ya\n",
      "Silahkan memilih menu:\n",
      "1. Penjumlahan\n",
      "2. Pengurangan\n",
      "3. Perkalian\n",
      "4. Pembagian\n",
      "Masukan Pilihan = 5\n",
      "Pilihan tidak ada di menu! Silahkan masukkan ulang\n",
      "Masih ingin memilih? ya\n",
      "Silahkan memilih menu:\n",
      "1. Penjumlahan\n",
      "2. Pengurangan\n",
      "3. Perkalian\n",
      "4. Pembagian\n",
      "Masukan Pilihan = 4\n",
      "Masukan Angka 1 = 1\n",
      "Masukan Angka 2 = 9\n",
      "Hasil Pembagian adalah 0.1111111111111111\n",
      "Masih ingin memilih? tidak\n",
      "Terimakasih, Selamat Datang Kembali!\n"
     ]
    }
   ],
   "source": [
    "start_program()"
   ]
  },
  {
   "cell_type": "code",
   "execution_count": null,
   "id": "e6c4df9d",
   "metadata": {},
   "outputs": [],
   "source": []
  }
 ],
 "metadata": {
  "kernelspec": {
   "display_name": "koding_akademi_virtual_environtment",
   "language": "python",
   "name": "koding_akademi_virtual_environtment"
  },
  "language_info": {
   "codemirror_mode": {
    "name": "ipython",
    "version": 3
   },
   "file_extension": ".py",
   "mimetype": "text/x-python",
   "name": "python",
   "nbconvert_exporter": "python",
   "pygments_lexer": "ipython3",
   "version": "3.10.8"
  },
  "toc": {
   "base_numbering": 1,
   "nav_menu": {},
   "number_sections": true,
   "sideBar": true,
   "skip_h1_title": false,
   "title_cell": "Table of Contents",
   "title_sidebar": "Contents",
   "toc_cell": false,
   "toc_position": {
    "height": "calc(100% - 180px)",
    "left": "10px",
    "top": "150px",
    "width": "294.183px"
   },
   "toc_section_display": true,
   "toc_window_display": true
  }
 },
 "nbformat": 4,
 "nbformat_minor": 5
}
