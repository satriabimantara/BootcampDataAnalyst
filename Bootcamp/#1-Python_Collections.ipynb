{
 "cells": [
  {
   "cell_type": "code",
   "execution_count": null,
   "id": "907f7c00",
   "metadata": {},
   "outputs": [],
   "source": [
    "if():\n",
    "    pass\n",
    "if():\n",
    "    pass\n",
    "if():\n",
    "    pass"
   ]
  },
  {
   "cell_type": "code",
   "execution_count": null,
   "id": "10d99769",
   "metadata": {},
   "outputs": [],
   "source": [
    "if():\n",
    "    pass\n",
    "elif():\n",
    "    pass\n",
    "elif():\n",
    "    pass\n",
    "elif():\n",
    "    pass\n",
    "else:\n",
    "    pass\n"
   ]
  },
  {
   "cell_type": "code",
   "execution_count": 5,
   "id": "9a9f1a29",
   "metadata": {},
   "outputs": [
    {
     "name": "stdout",
     "output_type": "stream",
     "text": [
      "Masukan mmm\n"
     ]
    }
   ],
   "source": [
    "print(\"Masukan mmm\")"
   ]
  },
  {
   "cell_type": "code",
   "execution_count": 4,
   "id": "e3dfa260",
   "metadata": {},
   "outputs": [
    {
     "name": "stdout",
     "output_type": "stream",
     "text": [
      "Masukan nilai matkul ekonomi makro Anda: 89\n",
      "Masukan nilai matkul ekonomi pembangunan Anda: -100\n",
      "A\n",
      "Nilai matkul pembangunan di luar range\n"
     ]
    }
   ],
   "source": [
    "nilai_matkul_ekonomi_makro_budi = int(\n",
    "    input(\"Masukan nilai matkul ekonomi makro Anda: \"))\n",
    "nilai_matkul_ekonomi_pembangunan_budi = int(\n",
    "    input('Masukan nilai matkul ekonomi pembangunan Anda: '))\n",
    "\n",
    "# autran untuk ngecek matkul ekonomi makro\n",
    "if (nilai_matkul_ekonomi_makro_budi >= 80 and nilai_matkul_ekonomi_makro_budi <= 100):\n",
    "    print('A')\n",
    "    # aturan untuk ngecek nilai matkul ekonomi pembangunan\n",
    "    if (nilai_matkul_ekonomi_pembangunan_budi >= 80 and nilai_matkul_ekonomi_pembangunan_budi <= 100):\n",
    "        print('Beasiswa Rp: 90.000')\n",
    "    elif (nilai_matkul_ekonomi_pembangunan_budi >= 50 and nilai_matkul_ekonomi_pembangunan_budi <= 79):\n",
    "        print('Beaisswa Rp; 50')\n",
    "    elif (nilai_matkul_ekonomi_pembangunan_budi >= 0 and nilai_matkul_ekonomi_pembangunan_budi < 50):\n",
    "        print('Beasiswa 0')\n",
    "    else:\n",
    "        print('Nilai matkul pembangunan di luar range')\n",
    "elif (nilai_matkul_ekonomi_makro_budi >= 70 and nilai_matkul_ekonomi_makro_budi <= 79):\n",
    "    print('B')\n",
    "    hasattridhf\n",
    "elif (nilai_matkul_ekonomi_makro_budi >= 60 and nilai_matkul_ekonomi_makro_budi <= 69):\n",
    "    print('C')\n",
    "elif (nilai_matkul_ekonomi_makro_budi >= 50 and nilai_matkul_ekonomi_makro_budi <= 59):\n",
    "    print('D')\n",
    "elif (nilai_matkul_ekonomi_makro_budi >= 0 and nilai_matkul_ekonomi_makro_budi < 50):\n",
    "    print('E')\n",
    "else:\n",
    "    print('nilai ekonomi makro Anda diluar range')"
   ]
  },
  {
   "cell_type": "code",
   "execution_count": null,
   "id": "3ea6eff3",
   "metadata": {},
   "outputs": [],
   "source": [
    "n = 0\n",
    "print(n)\n",
    "\n",
    "n=1\n",
    "print(n)\n",
    "\n",
    "n=2\n",
    "print(n)\n",
    "\n",
    "\n",
    "\n",
    "n=9\n",
    "print(n)\n",
    "\n",
    "[0, 1, ]"
   ]
  },
  {
   "cell_type": "code",
   "execution_count": null,
   "id": "69502998",
   "metadata": {},
   "outputs": [],
   "source": [
    "name_ = input('Masukan nama: ')\n",
    "print(\"Halo \", name, \"Selamat Datang\")"
   ]
  },
  {
   "cell_type": "code",
   "execution_count": null,
   "id": "36564bd7",
   "metadata": {},
   "outputs": [],
   "source": [
    "angka = 100\n",
    "\n",
    "for n in range(angka):\n",
    "    print(n)"
   ]
  },
  {
   "cell_type": "code",
   "execution_count": null,
   "id": "98953e3a",
   "metadata": {},
   "outputs": [],
   "source": [
    "-->\n",
    "-->\n",
    "-->\n",
    "-->"
   ]
  },
  {
   "cell_type": "code",
   "execution_count": 1,
   "id": "4080a282",
   "metadata": {},
   "outputs": [
    {
     "name": "stdout",
     "output_type": "stream",
     "text": [
      "Masukan nama Anda: budi\n",
      "budi\n",
      "budi\n",
      "budi\n",
      "budi\n",
      "budi\n",
      "budi\n",
      "budi\n",
      "budi\n",
      "budi\n",
      "budi\n",
      "budi\n",
      "budi\n",
      "budi\n",
      "budi\n",
      "budi\n"
     ]
    }
   ],
   "source": [
    "nama = input('Masukan nama Anda: ')\n",
    "\n",
    "print(nama)\n",
    "print(nama)\n",
    "print(nama)\n",
    "print(nama)\n",
    "print(nama)\n",
    "print(nama)\n",
    "print(nama)\n",
    "print(nama)\n",
    "print(nama)\n",
    "print(nama)\n",
    "print(nama)\n",
    "print(nama)\n",
    "print(nama)\n",
    "print(nama)\n",
    "print(nama)"
   ]
  },
  {
   "cell_type": "code",
   "execution_count": null,
   "id": "39cc8f6f",
   "metadata": {},
   "outputs": [],
   "source": []
  },
  {
   "cell_type": "code",
   "execution_count": null,
   "id": "b53ff36d",
   "metadata": {},
   "outputs": [],
   "source": []
  }
 ],
 "metadata": {
  "kernelspec": {
   "display_name": "koding_akademi_virtual_environtment",
   "language": "python",
   "name": "koding_akademi_virtual_environtment"
  },
  "language_info": {
   "codemirror_mode": {
    "name": "ipython",
    "version": 3
   },
   "file_extension": ".py",
   "mimetype": "text/x-python",
   "name": "python",
   "nbconvert_exporter": "python",
   "pygments_lexer": "ipython3",
   "version": "3.10.8"
  },
  "toc": {
   "base_numbering": 1,
   "nav_menu": {},
   "number_sections": true,
   "sideBar": true,
   "skip_h1_title": false,
   "title_cell": "Table of Contents",
   "title_sidebar": "Contents",
   "toc_cell": false,
   "toc_position": {},
   "toc_section_display": true,
   "toc_window_display": false
  }
 },
 "nbformat": 4,
 "nbformat_minor": 5
}
