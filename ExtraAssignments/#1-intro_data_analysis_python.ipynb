{
 "cells": [
  {
   "cell_type": "markdown",
   "id": "57df0d21",
   "metadata": {},
   "source": [
    "# Bootcamp Python - Variables - Data Types \n",
    "***\n",
    "– Coba buatlah sebuah variable dan cetak variabel tersebut yang menampung nilai biner dari bilangan 4, 8, dan 16"
   ]
  },
  {
   "cell_type": "code",
   "execution_count": 1,
   "id": "a845b0d0",
   "metadata": {},
   "outputs": [
    {
     "name": "stdout",
     "output_type": "stream",
     "text": [
      "0b100 0b1000 0b10000\n"
     ]
    }
   ],
   "source": [
    "x1 = bin(4)\n",
    "x2 = bin(8)\n",
    "x3 = bin(16)\n",
    "print(x1,x2,x3)"
   ]
  },
  {
   "cell_type": "markdown",
   "id": "8dd356be",
   "metadata": {},
   "source": [
    "# Bootcamp Python - Input & Output\n",
    "***\n",
    "– buatkan lima buah input untuk menangkap masukan pengguna berupa bilangan bulat sekaligus dalam List. Lalu coba cetak hasil penjumlahan, pengurangan, perkalian dari kelima buah input tersebut. (Gunakan nama_list[0] untuk mengakses input pertama, nama_list[1] untuk mengakses input kedua, dan seterusnya)\n",
    "INPUT:\n",
    "→ Masukan 5 bilangan: 1 3 5 7 9 \n",
    "OUTPUT:\n",
    "Penjumlahan = (1 + 3 + 5 + 7 + 9) = 25\n",
    "Pengurangan = (1 - 3 - 5 - 7 - 9) = -23\n",
    "Perkalian = (1*3*5*7*9) = 945\n"
   ]
  },
  {
   "cell_type": "code",
   "execution_count": 8,
   "id": "385253bf",
   "metadata": {},
   "outputs": [
    {
     "name": "stdout",
     "output_type": "stream",
     "text": [
      "Masukan bilangan bulat = 1 3 5 7 9\n",
      "Penjumlahan = 1 + 3 + 5 + 7 + 9 = 25\n",
      "Pengurangan = 1 - 3 - 5 - 7 - 9 = -23\n",
      "Perkalian = 1 x 3 x 5 x 7 x 9 = 945\n"
     ]
    }
   ],
   "source": [
    "multiple_input = list(map(int, input('Masukan bilangan bulat = ').split()))\n",
    "\n",
    "print(f\"Penjumlahan = {multiple_input[0]} + {multiple_input[1]} + {multiple_input[2]} + {multiple_input[3]} + {multiple_input[4]} = {multiple_input[0]+multiple_input[1]+multiple_input[2]+multiple_input[3]+multiple_input[4]}\")\n",
    "print(f\"Pengurangan = {multiple_input[0]} - {multiple_input[1]} - {multiple_input[2]} - {multiple_input[3]} - {multiple_input[4]} = {multiple_input[0]-multiple_input[1]-multiple_input[2]-multiple_input[3]-multiple_input[4]}\")\n",
    "print(f\"Perkalian = {multiple_input[0]} x {multiple_input[1]} x {multiple_input[2]} x {multiple_input[3]} x {multiple_input[4]} = {multiple_input[0]*multiple_input[1]*multiple_input[2]*multiple_input[3]*multiple_input[4]}\")"
   ]
  },
  {
   "cell_type": "markdown",
   "id": "8629c2db",
   "metadata": {},
   "source": [
    "# Bootcamp Python Operators"
   ]
  },
  {
   "cell_type": "markdown",
   "id": "77411826",
   "metadata": {},
   "source": [
    "# Bootcamp Python - Control Flow - If Statements\n",
    "***\n",
    "– Buatlah program yang menerima sebuah inputan angka dan tentukan apakah angka tersebut adalah bilangan kelipatan 4 dan habis dibagi 5\n",
    "Contoh: <br>\n",
    "→ Case 1: n = 40 <br>\n",
    "→ output: True <br>\n",
    "→ Case 2: n = 34 <br>\n",
    "→ output: False <br>"
   ]
  },
  {
   "cell_type": "code",
   "execution_count": 11,
   "id": "b38ddc6f",
   "metadata": {},
   "outputs": [
    {
     "name": "stdout",
     "output_type": "stream",
     "text": [
      "Input Angka = 34\n",
      "False\n"
     ]
    }
   ],
   "source": [
    "n = int(input('Input Angka = '))\n",
    "\n",
    "if (n%4 ==0 and n%5==0):\n",
    "    print(True)\n",
    "else:\n",
    "    print(False)"
   ]
  },
  {
   "attachments": {
    "image.png": {
     "image/png": "[encoded data removed]"
    }
   },
   "cell_type": "markdown",
   "id": "44370466",
   "metadata": {},
   "source": [
    "# Bootcamp Python - Control Flow - Looping\n",
    "***\n",
    "– Gunakan teknik looping untuk membuat pola bintang sesuai jumlah bilangan yang dimasukkan oleh pengguna. Tampung masukan dari pengguna dalam sebuah variabel bernama ‘jumlah_baris_bintang’. Contoh: jumlah_baris_bintang=5\n",
    "![image.png](attachment:image.png)"
   ]
  },
  {
   "cell_type": "code",
   "execution_count": 12,
   "id": "fcfd233c",
   "metadata": {},
   "outputs": [
    {
     "name": "stdout",
     "output_type": "stream",
     "text": [
      "     *\n",
      "    **\n",
      "   ***\n",
      "  ****\n",
      " *****\n"
     ]
    }
   ],
   "source": [
    "n = 5\n",
    "for i in range(n):\n",
    "  print(' '*(n-i-1), '*'*(i+1))"
   ]
  },
  {
   "cell_type": "code",
   "execution_count": null,
   "id": "6c447275",
   "metadata": {},
   "outputs": [],
   "source": []
  }
 ],
 "metadata": {
  "kernelspec": {
   "display_name": "koding_akademi_virtual_environtment",
   "language": "python",
   "name": "koding_akademi_virtual_environtment"
  },
  "language_info": {
   "codemirror_mode": {
    "name": "ipython",
    "version": 3
   },
   "file_extension": ".py",
   "mimetype": "text/x-python",
   "name": "python",
   "nbconvert_exporter": "python",
   "pygments_lexer": "ipython3",
   "version": "3.10.8"
  },
  "toc": {
   "base_numbering": 1,
   "nav_menu": {},
   "number_sections": true,
   "sideBar": true,
   "skip_h1_title": false,
   "title_cell": "Table of Contents",
   "title_sidebar": "Contents",
   "toc_cell": false,
   "toc_position": {
    "height": "calc(100% - 180px)",
    "left": "10px",
    "top": "150px",
    "width": "331.542px"
   },
   "toc_section_display": true,
   "toc_window_display": true
  }
 },
 "nbformat": 4,
 "nbformat_minor": 5
}
